{
 "cells": [
  {
   "cell_type": "code",
   "execution_count": 47,
   "metadata": {
    "scrolled": true
   },
   "outputs": [
    {
     "data": {
      "text/html": [
       "<div>\n",
       "<style scoped>\n",
       "    .dataframe tbody tr th:only-of-type {\n",
       "        vertical-align: middle;\n",
       "    }\n",
       "\n",
       "    .dataframe tbody tr th {\n",
       "        vertical-align: top;\n",
       "    }\n",
       "\n",
       "    .dataframe thead th {\n",
       "        text-align: right;\n",
       "    }\n",
       "</style>\n",
       "<table border=\"1\" class=\"dataframe\">\n",
       "  <thead>\n",
       "    <tr style=\"text-align: right;\">\n",
       "      <th></th>\n",
       "      <th>city</th>\n",
       "      <th>driver_count</th>\n",
       "      <th>type</th>\n",
       "      <th>date</th>\n",
       "      <th>fare</th>\n",
       "      <th>ride_id</th>\n",
       "    </tr>\n",
       "  </thead>\n",
       "  <tbody>\n",
       "    <tr>\n",
       "      <th>0</th>\n",
       "      <td>Richardfort</td>\n",
       "      <td>38</td>\n",
       "      <td>Urban</td>\n",
       "      <td>2/24/2018 8:40</td>\n",
       "      <td>13.93</td>\n",
       "      <td>5628545007794</td>\n",
       "    </tr>\n",
       "    <tr>\n",
       "      <th>1</th>\n",
       "      <td>Richardfort</td>\n",
       "      <td>38</td>\n",
       "      <td>Urban</td>\n",
       "      <td>2/13/2018 12:46</td>\n",
       "      <td>14.00</td>\n",
       "      <td>910050116494</td>\n",
       "    </tr>\n",
       "    <tr>\n",
       "      <th>2</th>\n",
       "      <td>Richardfort</td>\n",
       "      <td>38</td>\n",
       "      <td>Urban</td>\n",
       "      <td>2/16/2018 13:52</td>\n",
       "      <td>17.92</td>\n",
       "      <td>820639054416</td>\n",
       "    </tr>\n",
       "    <tr>\n",
       "      <th>3</th>\n",
       "      <td>Richardfort</td>\n",
       "      <td>38</td>\n",
       "      <td>Urban</td>\n",
       "      <td>2/1/2018 20:18</td>\n",
       "      <td>10.26</td>\n",
       "      <td>9554935945413</td>\n",
       "    </tr>\n",
       "    <tr>\n",
       "      <th>4</th>\n",
       "      <td>Richardfort</td>\n",
       "      <td>38</td>\n",
       "      <td>Urban</td>\n",
       "      <td>4/17/2018 2:26</td>\n",
       "      <td>23.00</td>\n",
       "      <td>720020655850</td>\n",
       "    </tr>\n",
       "    <tr>\n",
       "      <th>5</th>\n",
       "      <td>Richardfort</td>\n",
       "      <td>38</td>\n",
       "      <td>Urban</td>\n",
       "      <td>4/21/2018 3:44</td>\n",
       "      <td>9.54</td>\n",
       "      <td>3698147103219</td>\n",
       "    </tr>\n",
       "    <tr>\n",
       "      <th>6</th>\n",
       "      <td>Richardfort</td>\n",
       "      <td>38</td>\n",
       "      <td>Urban</td>\n",
       "      <td>2/3/2018 0:14</td>\n",
       "      <td>29.04</td>\n",
       "      <td>4982665519010</td>\n",
       "    </tr>\n",
       "    <tr>\n",
       "      <th>7</th>\n",
       "      <td>Richardfort</td>\n",
       "      <td>38</td>\n",
       "      <td>Urban</td>\n",
       "      <td>2/8/2018 15:50</td>\n",
       "      <td>16.55</td>\n",
       "      <td>2270463070874</td>\n",
       "    </tr>\n",
       "    <tr>\n",
       "      <th>8</th>\n",
       "      <td>Richardfort</td>\n",
       "      <td>38</td>\n",
       "      <td>Urban</td>\n",
       "      <td>4/3/2018 15:07</td>\n",
       "      <td>40.77</td>\n",
       "      <td>9496210735824</td>\n",
       "    </tr>\n",
       "    <tr>\n",
       "      <th>9</th>\n",
       "      <td>Richardfort</td>\n",
       "      <td>38</td>\n",
       "      <td>Urban</td>\n",
       "      <td>2/19/2018 14:09</td>\n",
       "      <td>27.11</td>\n",
       "      <td>8690324801449</td>\n",
       "    </tr>\n",
       "    <tr>\n",
       "      <th>10</th>\n",
       "      <td>Richardfort</td>\n",
       "      <td>38</td>\n",
       "      <td>Urban</td>\n",
       "      <td>4/22/2018 3:06</td>\n",
       "      <td>39.74</td>\n",
       "      <td>4081388893008</td>\n",
       "    </tr>\n",
       "    <tr>\n",
       "      <th>11</th>\n",
       "      <td>Richardfort</td>\n",
       "      <td>38</td>\n",
       "      <td>Urban</td>\n",
       "      <td>1/31/2018 14:51</td>\n",
       "      <td>43.92</td>\n",
       "      <td>4066949857460</td>\n",
       "    </tr>\n",
       "    <tr>\n",
       "      <th>12</th>\n",
       "      <td>Richardfort</td>\n",
       "      <td>38</td>\n",
       "      <td>Urban</td>\n",
       "      <td>3/4/2018 22:13</td>\n",
       "      <td>14.83</td>\n",
       "      <td>9474112834050</td>\n",
       "    </tr>\n",
       "    <tr>\n",
       "      <th>13</th>\n",
       "      <td>Richardfort</td>\n",
       "      <td>38</td>\n",
       "      <td>Urban</td>\n",
       "      <td>3/28/2018 19:33</td>\n",
       "      <td>7.75</td>\n",
       "      <td>5539056178883</td>\n",
       "    </tr>\n",
       "    <tr>\n",
       "      <th>14</th>\n",
       "      <td>Richardfort</td>\n",
       "      <td>38</td>\n",
       "      <td>Urban</td>\n",
       "      <td>2/14/2018 3:27</td>\n",
       "      <td>44.11</td>\n",
       "      <td>2503858662225</td>\n",
       "    </tr>\n",
       "    <tr>\n",
       "      <th>15</th>\n",
       "      <td>Richardfort</td>\n",
       "      <td>38</td>\n",
       "      <td>Urban</td>\n",
       "      <td>4/27/2018 11:59</td>\n",
       "      <td>30.31</td>\n",
       "      <td>6106446829435</td>\n",
       "    </tr>\n",
       "    <tr>\n",
       "      <th>16</th>\n",
       "      <td>Richardfort</td>\n",
       "      <td>38</td>\n",
       "      <td>Urban</td>\n",
       "      <td>3/3/2018 11:57</td>\n",
       "      <td>11.42</td>\n",
       "      <td>2916078036620</td>\n",
       "    </tr>\n",
       "    <tr>\n",
       "      <th>17</th>\n",
       "      <td>Richardfort</td>\n",
       "      <td>38</td>\n",
       "      <td>Urban</td>\n",
       "      <td>1/13/2018 10:08</td>\n",
       "      <td>25.81</td>\n",
       "      <td>9110913538598</td>\n",
       "    </tr>\n",
       "    <tr>\n",
       "      <th>18</th>\n",
       "      <td>Richardfort</td>\n",
       "      <td>38</td>\n",
       "      <td>Urban</td>\n",
       "      <td>3/6/2018 12:53</td>\n",
       "      <td>8.28</td>\n",
       "      <td>5127600643309</td>\n",
       "    </tr>\n",
       "    <tr>\n",
       "      <th>19</th>\n",
       "      <td>Richardfort</td>\n",
       "      <td>38</td>\n",
       "      <td>Urban</td>\n",
       "      <td>2/5/2018 16:12</td>\n",
       "      <td>42.22</td>\n",
       "      <td>4051093040264</td>\n",
       "    </tr>\n",
       "    <tr>\n",
       "      <th>20</th>\n",
       "      <td>Richardfort</td>\n",
       "      <td>38</td>\n",
       "      <td>Urban</td>\n",
       "      <td>4/4/2018 15:04</td>\n",
       "      <td>16.35</td>\n",
       "      <td>6077906760851</td>\n",
       "    </tr>\n",
       "    <tr>\n",
       "      <th>21</th>\n",
       "      <td>Richardfort</td>\n",
       "      <td>38</td>\n",
       "      <td>Urban</td>\n",
       "      <td>3/5/2018 16:00</td>\n",
       "      <td>4.85</td>\n",
       "      <td>3291539624738</td>\n",
       "    </tr>\n",
       "    <tr>\n",
       "      <th>22</th>\n",
       "      <td>Richardfort</td>\n",
       "      <td>38</td>\n",
       "      <td>Urban</td>\n",
       "      <td>4/14/2018 11:56</td>\n",
       "      <td>43.01</td>\n",
       "      <td>7636011510547</td>\n",
       "    </tr>\n",
       "    <tr>\n",
       "      <th>23</th>\n",
       "      <td>Richardfort</td>\n",
       "      <td>38</td>\n",
       "      <td>Urban</td>\n",
       "      <td>1/21/2018 23:20</td>\n",
       "      <td>10.91</td>\n",
       "      <td>3567611375530</td>\n",
       "    </tr>\n",
       "    <tr>\n",
       "      <th>24</th>\n",
       "      <td>Richardfort</td>\n",
       "      <td>38</td>\n",
       "      <td>Urban</td>\n",
       "      <td>3/16/2018 23:00</td>\n",
       "      <td>21.39</td>\n",
       "      <td>237473464569</td>\n",
       "    </tr>\n",
       "    <tr>\n",
       "      <th>25</th>\n",
       "      <td>Richardfort</td>\n",
       "      <td>38</td>\n",
       "      <td>Urban</td>\n",
       "      <td>3/22/2018 4:41</td>\n",
       "      <td>16.35</td>\n",
       "      <td>5934239154720</td>\n",
       "    </tr>\n",
       "    <tr>\n",
       "      <th>26</th>\n",
       "      <td>Richardfort</td>\n",
       "      <td>38</td>\n",
       "      <td>Urban</td>\n",
       "      <td>1/3/2018 1:06</td>\n",
       "      <td>5.32</td>\n",
       "      <td>3268844473610</td>\n",
       "    </tr>\n",
       "    <tr>\n",
       "      <th>27</th>\n",
       "      <td>Richardfort</td>\n",
       "      <td>38</td>\n",
       "      <td>Urban</td>\n",
       "      <td>3/29/2018 15:16</td>\n",
       "      <td>37.76</td>\n",
       "      <td>4802688422688</td>\n",
       "    </tr>\n",
       "    <tr>\n",
       "      <th>28</th>\n",
       "      <td>Williamsstad</td>\n",
       "      <td>59</td>\n",
       "      <td>Urban</td>\n",
       "      <td>1/23/2018 17:51</td>\n",
       "      <td>19.62</td>\n",
       "      <td>125986195523</td>\n",
       "    </tr>\n",
       "    <tr>\n",
       "      <th>29</th>\n",
       "      <td>Williamsstad</td>\n",
       "      <td>59</td>\n",
       "      <td>Urban</td>\n",
       "      <td>3/29/2018 21:43</td>\n",
       "      <td>35.58</td>\n",
       "      <td>4747780858464</td>\n",
       "    </tr>\n",
       "    <tr>\n",
       "      <th>30</th>\n",
       "      <td>Williamsstad</td>\n",
       "      <td>59</td>\n",
       "      <td>Urban</td>\n",
       "      <td>2/13/2018 20:07</td>\n",
       "      <td>33.72</td>\n",
       "      <td>3796713212942</td>\n",
       "    </tr>\n",
       "    <tr>\n",
       "      <th>31</th>\n",
       "      <td>Williamsstad</td>\n",
       "      <td>59</td>\n",
       "      <td>Urban</td>\n",
       "      <td>5/1/2018 1:26</td>\n",
       "      <td>26.81</td>\n",
       "      <td>4542954169892</td>\n",
       "    </tr>\n",
       "    <tr>\n",
       "      <th>32</th>\n",
       "      <td>Williamsstad</td>\n",
       "      <td>59</td>\n",
       "      <td>Urban</td>\n",
       "      <td>2/23/2018 17:42</td>\n",
       "      <td>4.68</td>\n",
       "      <td>9109973457376</td>\n",
       "    </tr>\n",
       "    <tr>\n",
       "      <th>33</th>\n",
       "      <td>Williamsstad</td>\n",
       "      <td>59</td>\n",
       "      <td>Urban</td>\n",
       "      <td>3/5/2018 2:33</td>\n",
       "      <td>25.02</td>\n",
       "      <td>1313211827663</td>\n",
       "    </tr>\n",
       "    <tr>\n",
       "      <th>34</th>\n",
       "      <td>Williamsstad</td>\n",
       "      <td>59</td>\n",
       "      <td>Urban</td>\n",
       "      <td>4/16/2018 23:07</td>\n",
       "      <td>23.12</td>\n",
       "      <td>969457753191</td>\n",
       "    </tr>\n",
       "    <tr>\n",
       "      <th>35</th>\n",
       "      <td>Williamsstad</td>\n",
       "      <td>59</td>\n",
       "      <td>Urban</td>\n",
       "      <td>3/12/2018 1:39</td>\n",
       "      <td>18.67</td>\n",
       "      <td>2161825345900</td>\n",
       "    </tr>\n",
       "    <tr>\n",
       "      <th>36</th>\n",
       "      <td>Williamsstad</td>\n",
       "      <td>59</td>\n",
       "      <td>Urban</td>\n",
       "      <td>4/12/2018 12:30</td>\n",
       "      <td>17.57</td>\n",
       "      <td>7099676230210</td>\n",
       "    </tr>\n",
       "    <tr>\n",
       "      <th>37</th>\n",
       "      <td>Williamsstad</td>\n",
       "      <td>59</td>\n",
       "      <td>Urban</td>\n",
       "      <td>2/21/2018 10:56</td>\n",
       "      <td>4.90</td>\n",
       "      <td>7176452471538</td>\n",
       "    </tr>\n",
       "    <tr>\n",
       "      <th>38</th>\n",
       "      <td>Williamsstad</td>\n",
       "      <td>59</td>\n",
       "      <td>Urban</td>\n",
       "      <td>4/16/2018 16:21</td>\n",
       "      <td>32.43</td>\n",
       "      <td>7177820757193</td>\n",
       "    </tr>\n",
       "    <tr>\n",
       "      <th>39</th>\n",
       "      <td>Williamsstad</td>\n",
       "      <td>59</td>\n",
       "      <td>Urban</td>\n",
       "      <td>2/22/2018 4:25</td>\n",
       "      <td>20.56</td>\n",
       "      <td>5813755050580</td>\n",
       "    </tr>\n",
       "    <tr>\n",
       "      <th>40</th>\n",
       "      <td>Williamsstad</td>\n",
       "      <td>59</td>\n",
       "      <td>Urban</td>\n",
       "      <td>5/6/2018 12:39</td>\n",
       "      <td>40.79</td>\n",
       "      <td>8720870563338</td>\n",
       "    </tr>\n",
       "    <tr>\n",
       "      <th>41</th>\n",
       "      <td>Williamsstad</td>\n",
       "      <td>59</td>\n",
       "      <td>Urban</td>\n",
       "      <td>1/6/2018 20:14</td>\n",
       "      <td>43.50</td>\n",
       "      <td>2047847470762</td>\n",
       "    </tr>\n",
       "    <tr>\n",
       "      <th>42</th>\n",
       "      <td>Williamsstad</td>\n",
       "      <td>59</td>\n",
       "      <td>Urban</td>\n",
       "      <td>3/25/2018 16:07</td>\n",
       "      <td>42.93</td>\n",
       "      <td>2209997295019</td>\n",
       "    </tr>\n",
       "    <tr>\n",
       "      <th>43</th>\n",
       "      <td>Williamsstad</td>\n",
       "      <td>59</td>\n",
       "      <td>Urban</td>\n",
       "      <td>4/26/2018 4:18</td>\n",
       "      <td>18.92</td>\n",
       "      <td>1606397653905</td>\n",
       "    </tr>\n",
       "    <tr>\n",
       "      <th>44</th>\n",
       "      <td>Williamsstad</td>\n",
       "      <td>59</td>\n",
       "      <td>Urban</td>\n",
       "      <td>4/21/2018 23:26</td>\n",
       "      <td>26.99</td>\n",
       "      <td>8562558271094</td>\n",
       "    </tr>\n",
       "    <tr>\n",
       "      <th>45</th>\n",
       "      <td>Williamsstad</td>\n",
       "      <td>59</td>\n",
       "      <td>Urban</td>\n",
       "      <td>4/1/2018 17:37</td>\n",
       "      <td>16.83</td>\n",
       "      <td>1516898097903</td>\n",
       "    </tr>\n",
       "    <tr>\n",
       "      <th>46</th>\n",
       "      <td>Williamsstad</td>\n",
       "      <td>59</td>\n",
       "      <td>Urban</td>\n",
       "      <td>5/6/2018 19:34</td>\n",
       "      <td>26.43</td>\n",
       "      <td>8987900630211</td>\n",
       "    </tr>\n",
       "    <tr>\n",
       "      <th>47</th>\n",
       "      <td>Williamsstad</td>\n",
       "      <td>59</td>\n",
       "      <td>Urban</td>\n",
       "      <td>1/20/2018 18:47</td>\n",
       "      <td>18.79</td>\n",
       "      <td>5023157350397</td>\n",
       "    </tr>\n",
       "    <tr>\n",
       "      <th>48</th>\n",
       "      <td>Williamsstad</td>\n",
       "      <td>59</td>\n",
       "      <td>Urban</td>\n",
       "      <td>1/3/2018 10:03</td>\n",
       "      <td>17.16</td>\n",
       "      <td>28294640252</td>\n",
       "    </tr>\n",
       "    <tr>\n",
       "      <th>49</th>\n",
       "      <td>Williamsstad</td>\n",
       "      <td>59</td>\n",
       "      <td>Urban</td>\n",
       "      <td>3/12/2018 11:08</td>\n",
       "      <td>13.79</td>\n",
       "      <td>5771635421960</td>\n",
       "    </tr>\n",
       "  </tbody>\n",
       "</table>\n",
       "</div>"
      ],
      "text/plain": [
       "            city  driver_count   type             date   fare        ride_id\n",
       "0    Richardfort            38  Urban   2/24/2018 8:40  13.93  5628545007794\n",
       "1    Richardfort            38  Urban  2/13/2018 12:46  14.00   910050116494\n",
       "2    Richardfort            38  Urban  2/16/2018 13:52  17.92   820639054416\n",
       "3    Richardfort            38  Urban   2/1/2018 20:18  10.26  9554935945413\n",
       "4    Richardfort            38  Urban   4/17/2018 2:26  23.00   720020655850\n",
       "5    Richardfort            38  Urban   4/21/2018 3:44   9.54  3698147103219\n",
       "6    Richardfort            38  Urban    2/3/2018 0:14  29.04  4982665519010\n",
       "7    Richardfort            38  Urban   2/8/2018 15:50  16.55  2270463070874\n",
       "8    Richardfort            38  Urban   4/3/2018 15:07  40.77  9496210735824\n",
       "9    Richardfort            38  Urban  2/19/2018 14:09  27.11  8690324801449\n",
       "10   Richardfort            38  Urban   4/22/2018 3:06  39.74  4081388893008\n",
       "11   Richardfort            38  Urban  1/31/2018 14:51  43.92  4066949857460\n",
       "12   Richardfort            38  Urban   3/4/2018 22:13  14.83  9474112834050\n",
       "13   Richardfort            38  Urban  3/28/2018 19:33   7.75  5539056178883\n",
       "14   Richardfort            38  Urban   2/14/2018 3:27  44.11  2503858662225\n",
       "15   Richardfort            38  Urban  4/27/2018 11:59  30.31  6106446829435\n",
       "16   Richardfort            38  Urban   3/3/2018 11:57  11.42  2916078036620\n",
       "17   Richardfort            38  Urban  1/13/2018 10:08  25.81  9110913538598\n",
       "18   Richardfort            38  Urban   3/6/2018 12:53   8.28  5127600643309\n",
       "19   Richardfort            38  Urban   2/5/2018 16:12  42.22  4051093040264\n",
       "20   Richardfort            38  Urban   4/4/2018 15:04  16.35  6077906760851\n",
       "21   Richardfort            38  Urban   3/5/2018 16:00   4.85  3291539624738\n",
       "22   Richardfort            38  Urban  4/14/2018 11:56  43.01  7636011510547\n",
       "23   Richardfort            38  Urban  1/21/2018 23:20  10.91  3567611375530\n",
       "24   Richardfort            38  Urban  3/16/2018 23:00  21.39   237473464569\n",
       "25   Richardfort            38  Urban   3/22/2018 4:41  16.35  5934239154720\n",
       "26   Richardfort            38  Urban    1/3/2018 1:06   5.32  3268844473610\n",
       "27   Richardfort            38  Urban  3/29/2018 15:16  37.76  4802688422688\n",
       "28  Williamsstad            59  Urban  1/23/2018 17:51  19.62   125986195523\n",
       "29  Williamsstad            59  Urban  3/29/2018 21:43  35.58  4747780858464\n",
       "30  Williamsstad            59  Urban  2/13/2018 20:07  33.72  3796713212942\n",
       "31  Williamsstad            59  Urban    5/1/2018 1:26  26.81  4542954169892\n",
       "32  Williamsstad            59  Urban  2/23/2018 17:42   4.68  9109973457376\n",
       "33  Williamsstad            59  Urban    3/5/2018 2:33  25.02  1313211827663\n",
       "34  Williamsstad            59  Urban  4/16/2018 23:07  23.12   969457753191\n",
       "35  Williamsstad            59  Urban   3/12/2018 1:39  18.67  2161825345900\n",
       "36  Williamsstad            59  Urban  4/12/2018 12:30  17.57  7099676230210\n",
       "37  Williamsstad            59  Urban  2/21/2018 10:56   4.90  7176452471538\n",
       "38  Williamsstad            59  Urban  4/16/2018 16:21  32.43  7177820757193\n",
       "39  Williamsstad            59  Urban   2/22/2018 4:25  20.56  5813755050580\n",
       "40  Williamsstad            59  Urban   5/6/2018 12:39  40.79  8720870563338\n",
       "41  Williamsstad            59  Urban   1/6/2018 20:14  43.50  2047847470762\n",
       "42  Williamsstad            59  Urban  3/25/2018 16:07  42.93  2209997295019\n",
       "43  Williamsstad            59  Urban   4/26/2018 4:18  18.92  1606397653905\n",
       "44  Williamsstad            59  Urban  4/21/2018 23:26  26.99  8562558271094\n",
       "45  Williamsstad            59  Urban   4/1/2018 17:37  16.83  1516898097903\n",
       "46  Williamsstad            59  Urban   5/6/2018 19:34  26.43  8987900630211\n",
       "47  Williamsstad            59  Urban  1/20/2018 18:47  18.79  5023157350397\n",
       "48  Williamsstad            59  Urban   1/3/2018 10:03  17.16    28294640252\n",
       "49  Williamsstad            59  Urban  3/12/2018 11:08  13.79  5771635421960"
      ]
     },
     "execution_count": 47,
     "metadata": {},
     "output_type": "execute_result"
    }
   ],
   "source": [
    "%matplotlib inline\n",
    "# Dependencies and Setup\n",
    "import matplotlib.pyplot as plt\n",
    "import pandas as pd\n",
    "import numpy as np\n",
    "\n",
    "# File to Load (Remember to change these)\n",
    "city_data_to_load = \"data/city_data.csv\"\n",
    "ride_data_to_load = \"data/ride_data.csv\"\n",
    "\n",
    "# Read the City and Ride Data\n",
    "city_data = pd.read_csv(\"Resources/city_data.csv\")\n",
    "\n",
    "ride_data = pd.read_csv(\"Resources/ride_data.csv\")\n",
    "\n",
    "# Combine the data into a single dataset\n",
    "df = pd.merge(city_data, ride_data, on=\"city\")\n",
    "\n",
    "# Display the data table for preview\n",
    "df.head(50)\n"
   ]
  },
  {
   "cell_type": "code",
   "execution_count": 48,
   "metadata": {},
   "outputs": [
    {
     "data": {
      "text/html": [
       "<div>\n",
       "<style scoped>\n",
       "    .dataframe tbody tr th:only-of-type {\n",
       "        vertical-align: middle;\n",
       "    }\n",
       "\n",
       "    .dataframe tbody tr th {\n",
       "        vertical-align: top;\n",
       "    }\n",
       "\n",
       "    .dataframe thead th {\n",
       "        text-align: right;\n",
       "    }\n",
       "</style>\n",
       "<table border=\"1\" class=\"dataframe\">\n",
       "  <thead>\n",
       "    <tr style=\"text-align: right;\">\n",
       "      <th></th>\n",
       "      <th>city</th>\n",
       "      <th>driver_count</th>\n",
       "      <th>type</th>\n",
       "    </tr>\n",
       "  </thead>\n",
       "  <tbody>\n",
       "    <tr>\n",
       "      <th>0</th>\n",
       "      <td>Richardfort</td>\n",
       "      <td>38</td>\n",
       "      <td>Urban</td>\n",
       "    </tr>\n",
       "    <tr>\n",
       "      <th>1</th>\n",
       "      <td>Williamsstad</td>\n",
       "      <td>59</td>\n",
       "      <td>Urban</td>\n",
       "    </tr>\n",
       "    <tr>\n",
       "      <th>2</th>\n",
       "      <td>Port Angela</td>\n",
       "      <td>67</td>\n",
       "      <td>Urban</td>\n",
       "    </tr>\n",
       "    <tr>\n",
       "      <th>3</th>\n",
       "      <td>Rodneyfort</td>\n",
       "      <td>34</td>\n",
       "      <td>Urban</td>\n",
       "    </tr>\n",
       "    <tr>\n",
       "      <th>4</th>\n",
       "      <td>West Robert</td>\n",
       "      <td>39</td>\n",
       "      <td>Urban</td>\n",
       "    </tr>\n",
       "  </tbody>\n",
       "</table>\n",
       "</div>"
      ],
      "text/plain": [
       "           city  driver_count   type\n",
       "0   Richardfort            38  Urban\n",
       "1  Williamsstad            59  Urban\n",
       "2   Port Angela            67  Urban\n",
       "3    Rodneyfort            34  Urban\n",
       "4   West Robert            39  Urban"
      ]
     },
     "execution_count": 48,
     "metadata": {},
     "output_type": "execute_result"
    }
   ],
   "source": [
    "# View data indiviually for ease of reference later on\n",
    "city_data.head()"
   ]
  },
  {
   "cell_type": "code",
   "execution_count": 49,
   "metadata": {
    "scrolled": true
   },
   "outputs": [
    {
     "data": {
      "text/html": [
       "<div>\n",
       "<style scoped>\n",
       "    .dataframe tbody tr th:only-of-type {\n",
       "        vertical-align: middle;\n",
       "    }\n",
       "\n",
       "    .dataframe tbody tr th {\n",
       "        vertical-align: top;\n",
       "    }\n",
       "\n",
       "    .dataframe thead th {\n",
       "        text-align: right;\n",
       "    }\n",
       "</style>\n",
       "<table border=\"1\" class=\"dataframe\">\n",
       "  <thead>\n",
       "    <tr style=\"text-align: right;\">\n",
       "      <th></th>\n",
       "      <th>city</th>\n",
       "      <th>date</th>\n",
       "      <th>fare</th>\n",
       "      <th>ride_id</th>\n",
       "    </tr>\n",
       "  </thead>\n",
       "  <tbody>\n",
       "    <tr>\n",
       "      <th>0</th>\n",
       "      <td>Lake Jonathanshire</td>\n",
       "      <td>1/14/2018 10:14</td>\n",
       "      <td>13.83</td>\n",
       "      <td>5739410935873</td>\n",
       "    </tr>\n",
       "    <tr>\n",
       "      <th>1</th>\n",
       "      <td>South Michelleport</td>\n",
       "      <td>3/4/2018 18:24</td>\n",
       "      <td>30.24</td>\n",
       "      <td>2343912425577</td>\n",
       "    </tr>\n",
       "    <tr>\n",
       "      <th>2</th>\n",
       "      <td>Port Samanthamouth</td>\n",
       "      <td>2/24/2018 4:29</td>\n",
       "      <td>33.44</td>\n",
       "      <td>2005065760003</td>\n",
       "    </tr>\n",
       "    <tr>\n",
       "      <th>3</th>\n",
       "      <td>Rodneyfort</td>\n",
       "      <td>2/10/2018 23:22</td>\n",
       "      <td>23.44</td>\n",
       "      <td>5149245426178</td>\n",
       "    </tr>\n",
       "    <tr>\n",
       "      <th>4</th>\n",
       "      <td>South Jack</td>\n",
       "      <td>3/6/2018 4:28</td>\n",
       "      <td>34.58</td>\n",
       "      <td>3908451377344</td>\n",
       "    </tr>\n",
       "  </tbody>\n",
       "</table>\n",
       "</div>"
      ],
      "text/plain": [
       "                 city             date   fare        ride_id\n",
       "0  Lake Jonathanshire  1/14/2018 10:14  13.83  5739410935873\n",
       "1  South Michelleport   3/4/2018 18:24  30.24  2343912425577\n",
       "2  Port Samanthamouth   2/24/2018 4:29  33.44  2005065760003\n",
       "3          Rodneyfort  2/10/2018 23:22  23.44  5149245426178\n",
       "4          South Jack    3/6/2018 4:28  34.58  3908451377344"
      ]
     },
     "execution_count": 49,
     "metadata": {},
     "output_type": "execute_result"
    }
   ],
   "source": [
    "ride_data.head()"
   ]
  },
  {
   "cell_type": "code",
   "execution_count": 50,
   "metadata": {},
   "outputs": [
    {
     "data": {
      "text/plain": [
       "West Angela        39\n",
       "South Karenland    38\n",
       "North Jason        35\n",
       "Liumouth           33\n",
       "Port Frank         33\n",
       "Name: city, dtype: int64"
      ]
     },
     "execution_count": 50,
     "metadata": {},
     "output_type": "execute_result"
    }
   ],
   "source": [
    "city_df = df[\"city\"].value_counts()\n",
    "city_df.head()"
   ]
  },
  {
   "cell_type": "code",
   "execution_count": 51,
   "metadata": {},
   "outputs": [
    {
     "data": {
      "text/plain": [
       "Urban       1625\n",
       "Suburban     625\n",
       "Rural        125\n",
       "Name: type, dtype: int64"
      ]
     },
     "execution_count": 51,
     "metadata": {},
     "output_type": "execute_result"
    }
   ],
   "source": [
    "type = df[\"type\"].value_counts()\n",
    "type.head()"
   ]
  },
  {
   "cell_type": "code",
   "execution_count": 52,
   "metadata": {},
   "outputs": [
    {
     "data": {
      "text/plain": [
       "Index(['city', 'driver_count', 'type', 'date', 'fare', 'ride_id'], dtype='object')"
      ]
     },
     "execution_count": 52,
     "metadata": {},
     "output_type": "execute_result"
    }
   ],
   "source": [
    "pyber_df = city_data.merge(ride_data, on='city')\n",
    "pyber_df.columns"
   ]
  },
  {
   "cell_type": "code",
   "execution_count": 53,
   "metadata": {},
   "outputs": [
    {
     "data": {
      "text/html": [
       "<div>\n",
       "<style scoped>\n",
       "    .dataframe tbody tr th:only-of-type {\n",
       "        vertical-align: middle;\n",
       "    }\n",
       "\n",
       "    .dataframe tbody tr th {\n",
       "        vertical-align: top;\n",
       "    }\n",
       "\n",
       "    .dataframe thead th {\n",
       "        text-align: right;\n",
       "    }\n",
       "</style>\n",
       "<table border=\"1\" class=\"dataframe\">\n",
       "  <thead>\n",
       "    <tr style=\"text-align: right;\">\n",
       "      <th></th>\n",
       "      <th>driver_count</th>\n",
       "      <th>fare</th>\n",
       "      <th>ride_id</th>\n",
       "    </tr>\n",
       "    <tr>\n",
       "      <th>city</th>\n",
       "      <th></th>\n",
       "      <th></th>\n",
       "      <th></th>\n",
       "    </tr>\n",
       "  </thead>\n",
       "  <tbody>\n",
       "    <tr>\n",
       "      <th>Amandaburgh</th>\n",
       "      <td>12.0</td>\n",
       "      <td>24.641667</td>\n",
       "      <td>5.359336e+12</td>\n",
       "    </tr>\n",
       "    <tr>\n",
       "      <th>Barajasview</th>\n",
       "      <td>26.0</td>\n",
       "      <td>25.332273</td>\n",
       "      <td>4.676968e+12</td>\n",
       "    </tr>\n",
       "    <tr>\n",
       "      <th>Barronchester</th>\n",
       "      <td>11.0</td>\n",
       "      <td>36.422500</td>\n",
       "      <td>4.460796e+12</td>\n",
       "    </tr>\n",
       "    <tr>\n",
       "      <th>Bethanyland</th>\n",
       "      <td>22.0</td>\n",
       "      <td>32.956111</td>\n",
       "      <td>5.842550e+12</td>\n",
       "    </tr>\n",
       "    <tr>\n",
       "      <th>Bradshawfurt</th>\n",
       "      <td>7.0</td>\n",
       "      <td>40.064000</td>\n",
       "      <td>3.735294e+12</td>\n",
       "    </tr>\n",
       "  </tbody>\n",
       "</table>\n",
       "</div>"
      ],
      "text/plain": [
       "               driver_count       fare       ride_id\n",
       "city                                                \n",
       "Amandaburgh            12.0  24.641667  5.359336e+12\n",
       "Barajasview            26.0  25.332273  4.676968e+12\n",
       "Barronchester          11.0  36.422500  4.460796e+12\n",
       "Bethanyland            22.0  32.956111  5.842550e+12\n",
       "Bradshawfurt            7.0  40.064000  3.735294e+12"
      ]
     },
     "execution_count": 53,
     "metadata": {},
     "output_type": "execute_result"
    }
   ],
   "source": [
    "# Clean, group, and count data \n",
    "pyber_groupby  = df.groupby(\"city\")\n",
    "pyber_groupby.head()\n",
    "pyber_ride = pyber_groupby.count()\n",
    "pyber_ride.head()\n",
    "pyber_fare = pyber_groupby.mean()\n",
    "pyber_fare.head()"
   ]
  },
  {
   "cell_type": "markdown",
   "metadata": {},
   "source": [
    "## Bubble Plot of Ride Sharing Data"
   ]
  },
  {
   "cell_type": "code",
   "execution_count": 54,
   "metadata": {},
   "outputs": [
    {
     "data": {
      "text/html": [
       "<div>\n",
       "<style scoped>\n",
       "    .dataframe tbody tr th:only-of-type {\n",
       "        vertical-align: middle;\n",
       "    }\n",
       "\n",
       "    .dataframe tbody tr th {\n",
       "        vertical-align: top;\n",
       "    }\n",
       "\n",
       "    .dataframe thead th {\n",
       "        text-align: right;\n",
       "    }\n",
       "</style>\n",
       "<table border=\"1\" class=\"dataframe\">\n",
       "  <thead>\n",
       "    <tr style=\"text-align: right;\">\n",
       "      <th></th>\n",
       "      <th>city</th>\n",
       "      <th>ride_count</th>\n",
       "    </tr>\n",
       "  </thead>\n",
       "  <tbody>\n",
       "    <tr>\n",
       "      <th>0</th>\n",
       "      <td>Amandaburgh</td>\n",
       "      <td>18</td>\n",
       "    </tr>\n",
       "    <tr>\n",
       "      <th>1</th>\n",
       "      <td>Barajasview</td>\n",
       "      <td>22</td>\n",
       "    </tr>\n",
       "    <tr>\n",
       "      <th>2</th>\n",
       "      <td>Barronchester</td>\n",
       "      <td>16</td>\n",
       "    </tr>\n",
       "    <tr>\n",
       "      <th>3</th>\n",
       "      <td>Bethanyland</td>\n",
       "      <td>18</td>\n",
       "    </tr>\n",
       "    <tr>\n",
       "      <th>4</th>\n",
       "      <td>Bradshawfurt</td>\n",
       "      <td>10</td>\n",
       "    </tr>\n",
       "  </tbody>\n",
       "</table>\n",
       "</div>"
      ],
      "text/plain": [
       "            city  ride_count\n",
       "0    Amandaburgh          18\n",
       "1    Barajasview          22\n",
       "2  Barronchester          16\n",
       "3    Bethanyland          18\n",
       "4   Bradshawfurt          10"
      ]
     },
     "execution_count": 54,
     "metadata": {},
     "output_type": "execute_result"
    }
   ],
   "source": [
    "# Obtain the x and y coordinates for each of the three city types\n",
    "\n",
    "\n",
    "pyber_ride_count = pyber_ride.loc[:,\"ride_id\"]\n",
    "pyber_ride_count = pyber_ride_count.to_frame()\n",
    "pyber_ride_count.rename(columns={\"ride_id\": \"ride_count\"}, inplace=True)\n",
    "\n",
    "index = pyber_ride_count.index\n",
    "pyber_ride_count.reset_index(inplace=True)\n",
    "\n",
    "\n",
    "pyber_ride_count.head()\n"
   ]
  },
  {
   "cell_type": "code",
   "execution_count": 55,
   "metadata": {},
   "outputs": [
    {
     "data": {
      "text/plain": [
       "0    18\n",
       "1    22\n",
       "2    16\n",
       "3    18\n",
       "4    10\n",
       "Name: ride_count, dtype: int64"
      ]
     },
     "execution_count": 55,
     "metadata": {},
     "output_type": "execute_result"
    }
   ],
   "source": [
    "ride_count = pyber_ride_count[\"ride_count\"]\n",
    "ride_count.head()"
   ]
  },
  {
   "cell_type": "code",
   "execution_count": null,
   "metadata": {},
   "outputs": [],
   "source": []
  },
  {
   "cell_type": "code",
   "execution_count": 56,
   "metadata": {},
   "outputs": [
    {
     "data": {
      "text/html": [
       "<div>\n",
       "<style scoped>\n",
       "    .dataframe tbody tr th:only-of-type {\n",
       "        vertical-align: middle;\n",
       "    }\n",
       "\n",
       "    .dataframe tbody tr th {\n",
       "        vertical-align: top;\n",
       "    }\n",
       "\n",
       "    .dataframe thead th {\n",
       "        text-align: right;\n",
       "    }\n",
       "</style>\n",
       "<table border=\"1\" class=\"dataframe\">\n",
       "  <thead>\n",
       "    <tr style=\"text-align: right;\">\n",
       "      <th></th>\n",
       "      <th>city</th>\n",
       "      <th>avg_fare</th>\n",
       "    </tr>\n",
       "  </thead>\n",
       "  <tbody>\n",
       "    <tr>\n",
       "      <th>0</th>\n",
       "      <td>Amandaburgh</td>\n",
       "      <td>24.641667</td>\n",
       "    </tr>\n",
       "    <tr>\n",
       "      <th>1</th>\n",
       "      <td>Barajasview</td>\n",
       "      <td>25.332273</td>\n",
       "    </tr>\n",
       "    <tr>\n",
       "      <th>2</th>\n",
       "      <td>Barronchester</td>\n",
       "      <td>36.422500</td>\n",
       "    </tr>\n",
       "    <tr>\n",
       "      <th>3</th>\n",
       "      <td>Bethanyland</td>\n",
       "      <td>32.956111</td>\n",
       "    </tr>\n",
       "    <tr>\n",
       "      <th>4</th>\n",
       "      <td>Bradshawfurt</td>\n",
       "      <td>40.064000</td>\n",
       "    </tr>\n",
       "  </tbody>\n",
       "</table>\n",
       "</div>"
      ],
      "text/plain": [
       "            city   avg_fare\n",
       "0    Amandaburgh  24.641667\n",
       "1    Barajasview  25.332273\n",
       "2  Barronchester  36.422500\n",
       "3    Bethanyland  32.956111\n",
       "4   Bradshawfurt  40.064000"
      ]
     },
     "execution_count": 56,
     "metadata": {},
     "output_type": "execute_result"
    }
   ],
   "source": [
    "pyber_fare = pyber_fare.loc[:,\"fare\"]\n",
    "pyber_fare = pyber_fare.to_frame()\n",
    "pyber_fare.rename(columns={\"fare\": \"avg_fare\"}, inplace=True)\n",
    "#index_fare = pyber_fare.index\n",
    "pyber_fare.reset_index(inplace=True)\n",
    "\n",
    "pyber_fare.head()"
   ]
  },
  {
   "cell_type": "code",
   "execution_count": 93,
   "metadata": {},
   "outputs": [
    {
     "data": {
      "text/plain": [
       "0    24.641667\n",
       "1    25.332273\n",
       "2    36.422500\n",
       "3    32.956111\n",
       "4    40.064000\n",
       "Name: avg_fare, dtype: float64"
      ]
     },
     "execution_count": 93,
     "metadata": {},
     "output_type": "execute_result"
    }
   ],
   "source": [
    "new_fare = pyber_fare[\"avg_fare\"]\n",
    "new_fare.head()"
   ]
  },
  {
   "cell_type": "code",
   "execution_count": 58,
   "metadata": {},
   "outputs": [
    {
     "data": {
      "text/html": [
       "<div>\n",
       "<style scoped>\n",
       "    .dataframe tbody tr th:only-of-type {\n",
       "        vertical-align: middle;\n",
       "    }\n",
       "\n",
       "    .dataframe tbody tr th {\n",
       "        vertical-align: top;\n",
       "    }\n",
       "\n",
       "    .dataframe thead th {\n",
       "        text-align: right;\n",
       "    }\n",
       "</style>\n",
       "<table border=\"1\" class=\"dataframe\">\n",
       "  <thead>\n",
       "    <tr style=\"text-align: right;\">\n",
       "      <th></th>\n",
       "      <th>city</th>\n",
       "      <th>driver_count</th>\n",
       "      <th>type</th>\n",
       "      <th>date</th>\n",
       "      <th>fare</th>\n",
       "      <th>ride_id</th>\n",
       "      <th>ride_count</th>\n",
       "      <th>avg_fare</th>\n",
       "    </tr>\n",
       "  </thead>\n",
       "  <tbody>\n",
       "    <tr>\n",
       "      <th>0</th>\n",
       "      <td>Richardfort</td>\n",
       "      <td>38</td>\n",
       "      <td>Urban</td>\n",
       "      <td>2/24/2018 8:40</td>\n",
       "      <td>13.93</td>\n",
       "      <td>5628545007794</td>\n",
       "      <td>28</td>\n",
       "      <td>22.373214</td>\n",
       "    </tr>\n",
       "    <tr>\n",
       "      <th>1</th>\n",
       "      <td>Richardfort</td>\n",
       "      <td>38</td>\n",
       "      <td>Urban</td>\n",
       "      <td>2/13/2018 12:46</td>\n",
       "      <td>14.00</td>\n",
       "      <td>910050116494</td>\n",
       "      <td>28</td>\n",
       "      <td>22.373214</td>\n",
       "    </tr>\n",
       "    <tr>\n",
       "      <th>2</th>\n",
       "      <td>Richardfort</td>\n",
       "      <td>38</td>\n",
       "      <td>Urban</td>\n",
       "      <td>2/16/2018 13:52</td>\n",
       "      <td>17.92</td>\n",
       "      <td>820639054416</td>\n",
       "      <td>28</td>\n",
       "      <td>22.373214</td>\n",
       "    </tr>\n",
       "    <tr>\n",
       "      <th>3</th>\n",
       "      <td>Richardfort</td>\n",
       "      <td>38</td>\n",
       "      <td>Urban</td>\n",
       "      <td>2/1/2018 20:18</td>\n",
       "      <td>10.26</td>\n",
       "      <td>9554935945413</td>\n",
       "      <td>28</td>\n",
       "      <td>22.373214</td>\n",
       "    </tr>\n",
       "    <tr>\n",
       "      <th>4</th>\n",
       "      <td>Richardfort</td>\n",
       "      <td>38</td>\n",
       "      <td>Urban</td>\n",
       "      <td>4/17/2018 2:26</td>\n",
       "      <td>23.00</td>\n",
       "      <td>720020655850</td>\n",
       "      <td>28</td>\n",
       "      <td>22.373214</td>\n",
       "    </tr>\n",
       "  </tbody>\n",
       "</table>\n",
       "</div>"
      ],
      "text/plain": [
       "          city  driver_count   type             date   fare        ride_id  \\\n",
       "0  Richardfort            38  Urban   2/24/2018 8:40  13.93  5628545007794   \n",
       "1  Richardfort            38  Urban  2/13/2018 12:46  14.00   910050116494   \n",
       "2  Richardfort            38  Urban  2/16/2018 13:52  17.92   820639054416   \n",
       "3  Richardfort            38  Urban   2/1/2018 20:18  10.26  9554935945413   \n",
       "4  Richardfort            38  Urban   4/17/2018 2:26  23.00   720020655850   \n",
       "\n",
       "   ride_count   avg_fare  \n",
       "0          28  22.373214  \n",
       "1          28  22.373214  \n",
       "2          28  22.373214  \n",
       "3          28  22.373214  \n",
       "4          28  22.373214  "
      ]
     },
     "execution_count": 58,
     "metadata": {},
     "output_type": "execute_result"
    }
   ],
   "source": [
    "pyber_df = pyber_df.merge(pyber_ride_count, on='city').merge(pyber_fare, on='city')\n",
    "pyber_df.head()"
   ]
  },
  {
   "cell_type": "code",
   "execution_count": 60,
   "metadata": {},
   "outputs": [
    {
     "data": {
      "text/plain": [
       "0    Richardfort\n",
       "1    Richardfort\n",
       "2    Richardfort\n",
       "3    Richardfort\n",
       "4    Richardfort\n",
       "Name: city, dtype: object"
      ]
     },
     "execution_count": 60,
     "metadata": {},
     "output_type": "execute_result"
    }
   ],
   "source": [
    "pyber_data = pyber_df[\"city\"]\n",
    "pyber_data.head()"
   ]
  },
  {
   "cell_type": "code",
   "execution_count": 61,
   "metadata": {},
   "outputs": [
    {
     "data": {
      "text/html": [
       "<div>\n",
       "<style scoped>\n",
       "    .dataframe tbody tr th:only-of-type {\n",
       "        vertical-align: middle;\n",
       "    }\n",
       "\n",
       "    .dataframe tbody tr th {\n",
       "        vertical-align: top;\n",
       "    }\n",
       "\n",
       "    .dataframe thead th {\n",
       "        text-align: right;\n",
       "    }\n",
       "</style>\n",
       "<table border=\"1\" class=\"dataframe\">\n",
       "  <thead>\n",
       "    <tr style=\"text-align: right;\">\n",
       "      <th></th>\n",
       "      <th>city</th>\n",
       "      <th>driver_count</th>\n",
       "      <th>type</th>\n",
       "    </tr>\n",
       "  </thead>\n",
       "  <tbody>\n",
       "    <tr>\n",
       "      <th>0</th>\n",
       "      <td>Richardfort</td>\n",
       "      <td>38</td>\n",
       "      <td>Urban</td>\n",
       "    </tr>\n",
       "    <tr>\n",
       "      <th>1</th>\n",
       "      <td>Williamsstad</td>\n",
       "      <td>59</td>\n",
       "      <td>Urban</td>\n",
       "    </tr>\n",
       "    <tr>\n",
       "      <th>2</th>\n",
       "      <td>Port Angela</td>\n",
       "      <td>67</td>\n",
       "      <td>Urban</td>\n",
       "    </tr>\n",
       "    <tr>\n",
       "      <th>3</th>\n",
       "      <td>Rodneyfort</td>\n",
       "      <td>34</td>\n",
       "      <td>Urban</td>\n",
       "    </tr>\n",
       "    <tr>\n",
       "      <th>4</th>\n",
       "      <td>West Robert</td>\n",
       "      <td>39</td>\n",
       "      <td>Urban</td>\n",
       "    </tr>\n",
       "  </tbody>\n",
       "</table>\n",
       "</div>"
      ],
      "text/plain": [
       "           city  driver_count   type\n",
       "0   Richardfort            38  Urban\n",
       "1  Williamsstad            59  Urban\n",
       "2   Port Angela            67  Urban\n",
       "3    Rodneyfort            34  Urban\n",
       "4   West Robert            39  Urban"
      ]
     },
     "execution_count": 61,
     "metadata": {},
     "output_type": "execute_result"
    }
   ],
   "source": [
    "#breakout by drivers\n",
    "raw_rural= city_data.loc[city_data['type'] == \"Rural\"]\n",
    "raw_urban = city_data.loc[city_data['type'] == \"Urban\"]\n",
    "raw_suburban = city_data.loc[city_data['type'] == \"Suburban\"]\n",
    "\n",
    "raw_urban.head()\n"
   ]
  },
  {
   "cell_type": "code",
   "execution_count": 66,
   "metadata": {},
   "outputs": [],
   "source": [
    "drivers_urban = raw_urban.set_index(\"city\")\n",
    "drivers_suburban = raw_suburban.set_index(\"city\")\n",
    "drivers_rural = raw_rural.set_index(\"city\")\n"
   ]
  },
  {
   "cell_type": "code",
   "execution_count": 68,
   "metadata": {},
   "outputs": [
    {
     "data": {
      "text/plain": [
       "Text(41,25,'Note: \\nCircle Size Correlates with driver count per city.')"
      ]
     },
     "execution_count": 68,
     "metadata": {},
     "output_type": "execute_result"
    },
    {
     "data": {
      "image/png": "[encoded data removed]",
      "text/plain": [
       "<Figure size 432x288 with 1 Axes>"
      ]
     },
     "metadata": {},
     "output_type": "display_data"
    }
   ],
   "source": [
    "# Build the scatter plots for each city types\n",
    "plt.scatter(ride_count, new_fare, marker=\"o\", facecolors=\"lightcoral\", edgecolors=\"black\")\n",
    "\n",
    "#plt.scatter(drivers_urban, new_fare, marker=\"o\", facecolors=\"lightcoral\", edgecolors=\"black\")\n",
    "#plt.scatter(drivers_suburban, new_fare, marker=\"o\", facecolors=\"orange\", edgecolors=\"black\")\n",
    "#plt.scatter(drivers_rural, new_fare, marker=\"o\", facecolors=\"lightskyblue\", edgecolors=\"black\")\n",
    "\n",
    "\n",
    "# Incorporate the other graph properties\n",
    "plt.title(\"Pyber Ride Sharing Data (2016)\").set_fontsize(15)\n",
    "plt.ylabel(\"Avg Fare ($)\").set_fontsize(12)\n",
    "plt.xlabel(\"Total Number of Rides (per City)\").set_fontsize(12)\n",
    "\n",
    "# Create a legend\n",
    "plt.legend(loc=\"best\")\n",
    "\n",
    "\n",
    "# Incorporate a text label regarding circle size\n",
    "plt.text(41,25,\"Note: \\nCircle Size Correlates with driver count per city.\")"
   ]
  },
  {
   "cell_type": "code",
   "execution_count": 94,
   "metadata": {},
   "outputs": [
    {
     "data": {
      "text/plain": [
       "<Figure size 432x288 with 0 Axes>"
      ]
     },
     "metadata": {},
     "output_type": "display_data"
    }
   ],
   "source": [
    "# Save Figure\n",
    "plt.savefig(\"Resources/PyberScatter.png\")\n",
    "\n"
   ]
  },
  {
   "cell_type": "code",
   "execution_count": 3,
   "metadata": {},
   "outputs": [
    {
     "data": {
      "image/png": "[encoded data removed]",
      "text/plain": [
       "<Figure size 432x288 with 1 Axes>"
      ]
     },
     "metadata": {},
     "output_type": "display_data"
    }
   ],
   "source": [
    "# Show plot\n",
    "plt.show()"
   ]
  },
  {
   "cell_type": "code",
   "execution_count": 168,
   "metadata": {},
   "outputs": [
    {
     "data": {
      "text/html": [
       "<div>\n",
       "<style scoped>\n",
       "    .dataframe tbody tr th:only-of-type {\n",
       "        vertical-align: middle;\n",
       "    }\n",
       "\n",
       "    .dataframe tbody tr th {\n",
       "        vertical-align: top;\n",
       "    }\n",
       "\n",
       "    .dataframe thead th {\n",
       "        text-align: right;\n",
       "    }\n",
       "</style>\n",
       "<table border=\"1\" class=\"dataframe\">\n",
       "  <thead>\n",
       "    <tr style=\"text-align: right;\">\n",
       "      <th></th>\n",
       "      <th>city</th>\n",
       "      <th>driver_count</th>\n",
       "      <th>type</th>\n",
       "      <th>date</th>\n",
       "      <th>fare</th>\n",
       "      <th>ride_id</th>\n",
       "    </tr>\n",
       "  </thead>\n",
       "  <tbody>\n",
       "    <tr>\n",
       "      <th>0</th>\n",
       "      <td>Richardfort</td>\n",
       "      <td>38</td>\n",
       "      <td>Urban</td>\n",
       "      <td>2/24/2018 8:40</td>\n",
       "      <td>13.93</td>\n",
       "      <td>5628545007794</td>\n",
       "    </tr>\n",
       "    <tr>\n",
       "      <th>1</th>\n",
       "      <td>Richardfort</td>\n",
       "      <td>38</td>\n",
       "      <td>Urban</td>\n",
       "      <td>2/13/2018 12:46</td>\n",
       "      <td>14.00</td>\n",
       "      <td>910050116494</td>\n",
       "    </tr>\n",
       "    <tr>\n",
       "      <th>2</th>\n",
       "      <td>Richardfort</td>\n",
       "      <td>38</td>\n",
       "      <td>Urban</td>\n",
       "      <td>2/16/2018 13:52</td>\n",
       "      <td>17.92</td>\n",
       "      <td>820639054416</td>\n",
       "    </tr>\n",
       "    <tr>\n",
       "      <th>3</th>\n",
       "      <td>Richardfort</td>\n",
       "      <td>38</td>\n",
       "      <td>Urban</td>\n",
       "      <td>2/1/2018 20:18</td>\n",
       "      <td>10.26</td>\n",
       "      <td>9554935945413</td>\n",
       "    </tr>\n",
       "    <tr>\n",
       "      <th>4</th>\n",
       "      <td>Richardfort</td>\n",
       "      <td>38</td>\n",
       "      <td>Urban</td>\n",
       "      <td>4/17/2018 2:26</td>\n",
       "      <td>23.00</td>\n",
       "      <td>720020655850</td>\n",
       "    </tr>\n",
       "  </tbody>\n",
       "</table>\n",
       "</div>"
      ],
      "text/plain": [
       "          city  driver_count   type             date   fare        ride_id\n",
       "0  Richardfort            38  Urban   2/24/2018 8:40  13.93  5628545007794\n",
       "1  Richardfort            38  Urban  2/13/2018 12:46  14.00   910050116494\n",
       "2  Richardfort            38  Urban  2/16/2018 13:52  17.92   820639054416\n",
       "3  Richardfort            38  Urban   2/1/2018 20:18  10.26  9554935945413\n",
       "4  Richardfort            38  Urban   4/17/2018 2:26  23.00   720020655850"
      ]
     },
     "execution_count": 168,
     "metadata": {},
     "output_type": "execute_result"
    }
   ],
   "source": [
    "# View original df for next exercises \n",
    "df.head()"
   ]
  },
  {
   "cell_type": "markdown",
   "metadata": {},
   "source": [
    "## Total Fares by City Type"
   ]
  },
  {
   "cell_type": "code",
   "execution_count": 194,
   "metadata": {},
   "outputs": [
    {
     "data": {
      "text/plain": [
       "type\n",
       "Rural        4327.93\n",
       "Suburban    19356.33\n",
       "Urban       39854.38\n",
       "Name: fare, dtype: float64"
      ]
     },
     "execution_count": 194,
     "metadata": {},
     "output_type": "execute_result"
    }
   ],
   "source": [
    "# Calculate Types and Totals\n",
    "\n",
    "pyber_fares = df.groupby(\"type\")[\"type\", \"fare\", \"ride_id\", \"driver_count\"]\n",
    "pyber_fares.head()\n",
    "\n",
    "sum_fares = pyber_fares.sum()[\"fare\"]\n",
    "sum_fares\n",
    "\n"
   ]
  },
  {
   "cell_type": "code",
   "execution_count": 201,
   "metadata": {},
   "outputs": [
    {
     "data": {
      "image/png": "[encoded data removed]",
      "text/plain": [
       "<Figure size 432x288 with 1 Axes>"
      ]
     },
     "metadata": {},
     "output_type": "display_data"
    }
   ],
   "source": [
    "# Build Pie Chart\n",
    "\n",
    "the_fares = sum_fares.loc[type]\n",
    "fares = the_fares.keys()\n",
    "explode = (0, 0.1, 0)\n",
    "colors = [\"orange\", \"lightcoral\", \"lightskyblue\"]\n",
    "\n",
    "\n",
    "pyber_fares = the_fares.plot(kind=\"pie\", y=rural, shadow=True, colors=colors, explode=explode, title=(\"% of Total Fares by City Type\"))\n",
    "\n",
    "# Create a legend\n",
    "plt.legend(loc=\"best\")\n",
    "\n",
    "# Show Figure\n",
    "plt.tight_layout()\n",
    "plt.show()\n",
    "\n"
   ]
  },
  {
   "cell_type": "code",
   "execution_count": 4,
   "metadata": {},
   "outputs": [
    {
     "data": {
      "image/png": "[encoded data removed]",
      "text/plain": [
       "<Figure size 432x288 with 1 Axes>"
      ]
     },
     "metadata": {},
     "output_type": "display_data"
    }
   ],
   "source": [
    "# Save Figure\n",
    "plt.savefig(\"Resources/PyberFaresPie.png\")\n",
    "\n",
    "# Show Figure\n",
    "plt.show()"
   ]
  },
  {
   "cell_type": "code",
   "execution_count": null,
   "metadata": {},
   "outputs": [],
   "source": []
  },
  {
   "cell_type": "markdown",
   "metadata": {},
   "source": [
    "## Total Rides by City Type"
   ]
  },
  {
   "cell_type": "code",
   "execution_count": 222,
   "metadata": {},
   "outputs": [
    {
     "data": {
      "text/plain": [
       "city            2375\n",
       "driver_count    2375\n",
       "date            2375\n",
       "fare            2375\n",
       "ride_id         2375\n",
       "dtype: int64"
      ]
     },
     "execution_count": 222,
     "metadata": {},
     "output_type": "execute_result"
    }
   ],
   "source": [
    "# Calculate Types and Totals\n",
    "\n",
    "pyber_rides = df.groupby(\"type\")\n",
    "pyber_rides.head()\n",
    "\n",
    "pyber_rides_type = pyber_rides.count()\n",
    "#pyber_rides_type.head()\n",
    "\n",
    "\n",
    "sum_type = pyber_rides_type.sum()\n",
    "sum_type\n",
    "\n"
   ]
  },
  {
   "cell_type": "code",
   "execution_count": 99,
   "metadata": {},
   "outputs": [
    {
     "data": {
      "image/png": "[encoded data removed]",
      "text/plain": [
       "<Figure size 432x288 with 1 Axes>"
      ]
     },
     "metadata": {},
     "output_type": "display_data"
    }
   ],
   "source": [
    "# number of ride per city type\n",
    "pyber_rides = pyber_fares.count()[\"ride_id\"]\n",
    "\n",
    "labels = pyber_rides.index\n",
    "plt.pie(pyber_rides, startangle = 90, explode = explode, colors = colors, labels = labels, autopct = \"%1.1f%%\", shadow = True, wedgeprops = {\"linewidth\": .25, \"edgecolor\": \"gray\"})\n",
    "plt.title(\"% of Total Rides by City Type\")\n",
    "#plt.axis('equal')\n",
    "plt.show()"
   ]
  },
  {
   "cell_type": "code",
   "execution_count": 220,
   "metadata": {},
   "outputs": [
    {
     "data": {
      "image/png": "[encoded data removed]",
      "text/plain": [
       "<Figure size 432x288 with 1 Axes>"
      ]
     },
     "metadata": {},
     "output_type": "display_data"
    }
   ],
   "source": [
    "# Build Pie Chart- First Attempt\n",
    "\n",
    "the_city = pyber_rides_type.loc[type]\n",
    "rides = the_city.keys()\n",
    "explode = (0, 0.1, 0)\n",
    "colors = [\"orange\", \"lightcoral\", \"lightskyblue\"]\n",
    "\n",
    "\n",
    "pyber_rides = the_city.plot(kind=\"pie\", y=rural, shadow=True, colors=colors, autopct = \"%1.1f%%\", explode=explode, title=(\"% of Total Rides by City Type\"))\n",
    "\n",
    "# Create a legend\n",
    "plt.legend(loc=\"best\")\n",
    "\n",
    "# Show Figure\n",
    "plt.tight_layout()\n",
    "#plt.axis(\"equal\")\n",
    "plt.show()\n"
   ]
  },
  {
   "cell_type": "code",
   "execution_count": 145,
   "metadata": {},
   "outputs": [
    {
     "data": {
      "text/plain": [
       "<Figure size 432x288 with 0 Axes>"
      ]
     },
     "metadata": {},
     "output_type": "display_data"
    }
   ],
   "source": [
    "# Save Figure\n",
    "plt.savefig(\"Resources/PyberRidesPie.png\")"
   ]
  },
  {
   "cell_type": "code",
   "execution_count": 135,
   "metadata": {},
   "outputs": [],
   "source": [
    "# Show Figure\n",
    "plt.show()"
   ]
  },
  {
   "cell_type": "markdown",
   "metadata": {},
   "source": [
    "## Total Drivers by City Type"
   ]
  },
  {
   "cell_type": "code",
   "execution_count": 81,
   "metadata": {},
   "outputs": [
    {
     "data": {
      "text/plain": [
       "type\n",
       "Rural         537\n",
       "Suburban     8570\n",
       "Urban       59602\n",
       "Name: driver_count, dtype: int64"
      ]
     },
     "execution_count": 81,
     "metadata": {},
     "output_type": "execute_result"
    }
   ],
   "source": [
    "# Calculate Types and Totals\n",
    "\n",
    "pyber_drivers = df.groupby(\"type\")[\"type\", \"fare\", \"ride_id\", \"driver_count\"]\n",
    "pyber_drivers.head\n",
    "\n",
    "sum_drivers = pyber_drivers.sum()[\"driver_count\"]\n",
    "sum_drivers.head()\n"
   ]
  },
  {
   "cell_type": "code",
   "execution_count": 98,
   "metadata": {},
   "outputs": [
    {
     "data": {
      "image/png": "[encoded data removed]",
      "text/plain": [
       "<Figure size 432x288 with 1 Axes>"
      ]
     },
     "metadata": {},
     "output_type": "display_data"
    }
   ],
   "source": [
    "# of driver per city type\n",
    "sum_drivers = pyber_drivers.sum()[\"driver_count\"]\n",
    "\n",
    "labels = sum_drivers.index\n",
    "plt.pie(sum_drivers, startangle = 180, explode = explode, colors = colors, labels = labels, autopct = \"%1.1f%%\", shadow = True, wedgeprops = {\"linewidth\": .25, \"edgecolor\": \"gray\"})\n",
    "plt.title(\"% of Total Drivers by City Type\")\n",
    "#plt.axis('equal')\n",
    "plt.show()"
   ]
  },
  {
   "cell_type": "code",
   "execution_count": 235,
   "metadata": {},
   "outputs": [
    {
     "data": {
      "image/png": "[encoded data removed]",
      "text/plain": [
       "<Figure size 432x288 with 1 Axes>"
      ]
     },
     "metadata": {},
     "output_type": "display_data"
    }
   ],
   "source": [
    "# Build Pie Chart - First Attempt\n",
    "\n",
    "the_drivers = sum_drivers.loc[type]\n",
    "drivers = the_drivers.keys()\n",
    "explode = (0, 0.1, 0)\n",
    "colors = [\"orange\", \"lightcoral\", \"lightskyblue\"]\n",
    "\n",
    "\n",
    "pyber_drivers = the_drivers.plot(kind=\"pie\", y=rural, shadow=True, colors=colors, autopct = \"%1.1f%%\", explode=explode, title=(\"% of Total Fares by City Type\"))\n",
    "\n",
    "# Create a legend\n",
    "plt.legend(loc=\"best\")\n",
    "\n",
    "# Show Figure\n",
    "plt.tight_layout()\n",
    "plt.show()\n"
   ]
  },
  {
   "cell_type": "code",
   "execution_count": 6,
   "metadata": {
    "scrolled": true
   },
   "outputs": [
    {
     "data": {
      "image/png": "[encoded data removed]",
      "text/plain": [
       "<Figure size 432x288 with 1 Axes>"
      ]
     },
     "metadata": {},
     "output_type": "display_data"
    }
   ],
   "source": []
  },
  {
   "cell_type": "code",
   "execution_count": null,
   "metadata": {},
   "outputs": [],
   "source": [
    "# Show Figure\n",
    "plt.show()"
   ]
  }
 ],
 "metadata": {
  "anaconda-cloud": {},
  "kernelspec": {
   "display_name": "Python [conda env:PythonData]",
   "language": "python",
   "name": "conda-env-PythonData-py"
  },
  "language_info": {
   "codemirror_mode": {
    "name": "ipython",
    "version": 3
   },
   "file_extension": ".py",
   "mimetype": "text/x-python",
   "name": "python",
   "nbconvert_exporter": "python",
   "pygments_lexer": "ipython3",
   "version": "3.6.5"
  }
 },
 "nbformat": 4,
 "nbformat_minor": 2
}
